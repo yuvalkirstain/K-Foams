{
 "cells": [
  {
   "cell_type": "code",
   "execution_count": null,
   "metadata": {
    "collapsed": true
   },
   "outputs": [],
   "source": [
    "import numpy as np\n",
    "from utils import graph2mesh, plot_graph_2d, plot_graph_3d, plot_mesh\n",
    "from pymesh.meshio import save_mesh\n",
    "from k_nearest_foams import create_k_nearest_foams_graph"
   ]
  },
  {
   "cell_type": "code",
   "execution_count": null,
   "outputs": [],
   "source": [
    "n_vertices = 5\n",
    "dim = 3\n",
    "vertices_test = np.random.rand(n_vertices, dim)\n",
    "edges_test = np.array([(i, j) for i in range(n_vertices) for j in range(i + 1, n_vertices) if np.random.binomial(5, 0.5) > 1])"
   ],
   "metadata": {
    "collapsed": false,
    "pycharm": {
     "name": "#%%\n"
    }
   }
  },
  {
   "cell_type": "code",
   "execution_count": null,
   "outputs": [],
   "source": [
    "plot_graph_3d(vertices_test, edges_test)"
   ],
   "metadata": {
    "collapsed": false,
    "pycharm": {
     "name": "#%%\n"
    }
   }
  },
  {
   "cell_type": "code",
   "execution_count": null,
   "outputs": [],
   "source": [
    "mesh_test = graph2mesh(vertices_test, edges_test)\n",
    "plot_mesh(mesh_test)"
   ],
   "metadata": {
    "collapsed": false,
    "pycharm": {
     "name": "#%%\n"
    }
   }
  },
  {
   "cell_type": "code",
   "execution_count": null,
   "outputs": [],
   "source": [
    "grid_cells_points = [(0,0,0), (1,0,0), (0,0,1), (1,0,1)]\n",
    "grid_cells_sizes = [1,1,1,1]\n",
    "\n",
    "alpha = (1.5, 1.5, 1.5)\n",
    "beta = (0, 0, 0)\n",
    "angles = [alpha, beta, alpha, beta]\n",
    "\n",
    "s1 = (1.0, 1.0, 30.0)\n",
    "stretches = [s1, s1, s1, s1]\n",
    "\n",
    "k=2\n",
    "dim = 3\n",
    "\n",
    "vertices, edges = create_k_nearest_foams_graph(grid_cells_points, grid_cells_sizes, angles, stretches, k, dim)"
   ],
   "metadata": {
    "collapsed": false,
    "pycharm": {
     "name": "#%%\n"
    }
   }
  },
  {
   "cell_type": "code",
   "execution_count": null,
   "outputs": [],
   "source": [
    "plot_graph_3d(vertices, edges)"
   ],
   "metadata": {
    "collapsed": false,
    "pycharm": {
     "name": "#%%\n"
    }
   }
  },
  {
   "cell_type": "code",
   "execution_count": null,
   "outputs": [],
   "source": [
    "mesh = graph2mesh(vertices, edges)\n",
    "plot_mesh(mesh)"
   ],
   "metadata": {
    "collapsed": false,
    "pycharm": {
     "name": "#%%\n"
    }
   }
  },
  {
   "cell_type": "code",
   "execution_count": null,
   "outputs": [],
   "source": [
    "save_path = \"example.stl\"\n",
    "save_mesh(save_path, mesh)\n"
   ],
   "metadata": {
    "collapsed": false,
    "pycharm": {
     "name": "#%%\n"
    }
   }
  },
  {
   "cell_type": "code",
   "execution_count": null,
   "outputs": [],
   "source": [
    "grid_cells_points = [(x, y, z) for x in range(10) for y in range(10) for z in range(1)]\n",
    "grid_cells_sizes = [0.1] * len(grid_cells_points)\n",
    "k = 6\n",
    "dim = 3\n",
    "alpha = (0, 0, 0)\n",
    "angles = [alpha] * len(grid_cells_points)\n",
    "s1 = (1.0, 1.0, 1.0)\n",
    "stretches = [s1] * len(grid_cells_points)\n",
    "vertices, edges = create_k_nearest_foams_graph(grid_cells_points, grid_cells_sizes, angles, stretches, k, dim)"
   ],
   "metadata": {
    "collapsed": false,
    "pycharm": {
     "name": "#%%\n"
    }
   }
  },
  {
   "cell_type": "code",
   "execution_count": null,
   "outputs": [],
   "source": [
    "grid_cells_points = [(x, y) for x in range(5) for y in range(5)]\n",
    "grid_cells_sizes = [1] * len(grid_cells_points)\n",
    "k = 4\n",
    "dim = 2\n",
    "alpha = 0\n",
    "angles = [alpha] * len(grid_cells_points)\n",
    "s1 = (1.0, 1.0)\n",
    "stretches = [s1] * len(grid_cells_points)\n",
    "vertices_2d_no_stretch, edges_2d_no_stretch = create_k_nearest_foams_graph(grid_cells_points, grid_cells_sizes, angles, stretches, k, dim)"
   ],
   "metadata": {
    "collapsed": false,
    "pycharm": {
     "name": "#%%\n"
    }
   }
  },
  {
   "cell_type": "code",
   "execution_count": null,
   "outputs": [],
   "source": [
    "plot_graph_2d(vertices_2d_no_stretch, edges_2d_no_stretch)"
   ],
   "metadata": {
    "collapsed": false,
    "pycharm": {
     "name": "#%%\n"
    }
   }
  },
  {
   "cell_type": "code",
   "execution_count": null,
   "outputs": [],
   "source": [
    "grid_cells_points = [(x, y) for x in range(5) for y in range(5)]\n",
    "grid_cells_sizes = [1] * len(grid_cells_points)\n",
    "k = 4\n",
    "dim = 2\n",
    "alpha = 0\n",
    "angles = [alpha] * len(grid_cells_points)\n",
    "s1 = (10.0, 1.0)\n",
    "stretches = [s1] * len(grid_cells_points)\n",
    "vertices_2d, edges_2d = create_k_nearest_foams_graph(grid_cells_points, grid_cells_sizes, angles, stretches, k, dim)"
   ],
   "metadata": {
    "collapsed": false,
    "pycharm": {
     "name": "#%%\n"
    }
   }
  },
  {
   "cell_type": "code",
   "execution_count": null,
   "outputs": [],
   "source": [
    "plot_graph_2d(vertices_2d, edges_2d)"
   ],
   "metadata": {
    "collapsed": false,
    "pycharm": {
     "name": "#%%\n"
    }
   }
  },
  {
   "cell_type": "code",
   "execution_count": null,
   "outputs": [],
   "source": [
    "grid_cells_points = [(x, y, z) for x in range(10) for y in range(10) for z in range(1)]\n",
    "grid_cells_sizes = [0.1] * len(grid_cells_points)\n",
    "k = 6\n",
    "dim = 3\n",
    "alpha = (0, 0, 0)\n",
    "angles = [alpha] * len(grid_cells_points)\n",
    "s1 = (1.0, 1.0, 1.0)\n",
    "stretches = [s1] * len(grid_cells_points)\n",
    "vertices, edges = create_k_nearest_foams_graph(grid_cells_points, grid_cells_sizes, angles, stretches, k, dim)"
   ],
   "metadata": {
    "collapsed": false,
    "pycharm": {
     "name": "#%%\n"
    }
   }
  }
 ],
 "metadata": {
  "kernelspec": {
   "display_name": "Python 3",
   "language": "python",
   "name": "python3"
  },
  "language_info": {
   "codemirror_mode": {
    "name": "ipython",
    "version": 2
   },
   "file_extension": ".py",
   "mimetype": "text/x-python",
   "name": "python",
   "nbconvert_exporter": "python",
   "pygments_lexer": "ipython2",
   "version": "2.7.6"
  }
 },
 "nbformat": 4,
 "nbformat_minor": 0
}